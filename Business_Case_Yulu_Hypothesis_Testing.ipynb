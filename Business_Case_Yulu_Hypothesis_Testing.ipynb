{
  "nbformat": 4,
  "nbformat_minor": 0,
  "metadata": {
    "colab": {
      "name": "Business Case: Yulu - Hypothesis Testing.ipynb",
      "provenance": []
    },
    "kernelspec": {
      "name": "python3",
      "display_name": "Python 3"
    },
    "language_info": {
      "name": "python"
    }
  },
  "cells": [
    {
      "cell_type": "markdown",
      "source": [
        "# Business Statement\n",
        "\n",
        "Yulu is India’s leading micro-mobility service provider, which offers unique vehicles for the daily commute. Starting off as a mission to eliminate traffic congestion in India, Yulu provides the safest commute solution through a user-friendly mobile app to enable shared, solo and sustainable commuting.\n",
        "\n",
        "Yulu zones are located at all the appropriate locations (including metro stations, bus stands, office spaces, residential areas, corporate offices, etc) to make those first and last miles smooth, affordable, and convenient!\n",
        "\n",
        "Yulu has recently suffered considerable dips in its revenues. They have contracted a consulting company to understand the factors on which the demand for these shared electric cycles depends. Specifically, they want to understand the factors affecting the demand for these shared electric cycles in the Indian market.\n",
        "\n",
        "### How we can help here?\n",
        "\n",
        "The company wants to know:\n",
        "\n",
        "Which variables are significant in predicting the demand for shared electric cycles in the Indian market?\n",
        "How well those variables describe the electric cycle demands"
      ],
      "metadata": {
        "id": "Wks5xefQQm3e"
      }
    },
    {
      "cell_type": "code",
      "execution_count": 77,
      "metadata": {
        "id": "zBGl_kS80Jbw"
      },
      "outputs": [],
      "source": [
        "#Importing Necessary Packages\n",
        "\n",
        "import numpy as np\n",
        "import pandas as pd\n",
        "import matplotlib.pyplot as plt\n",
        "# import the required function\n",
        "from scipy.stats import ttest_ind\n",
        "from scipy.stats import shapiro\n",
        "from scipy.stats import levene\n",
        "from scipy.stats import f_oneway\n",
        "from scipy.stats import chi2_contingency\n",
        "%matplotlib inline\n",
        "import seaborn as sns\n",
        "sns.set(rc={'axes.facecolor':'#c5c6c7'})\n",
        "import warnings\n",
        "warnings.filterwarnings(\"ignore\")"
      ]
    },
    {
      "cell_type": "code",
      "source": [
        "df = pd.read_csv('/content/drive/MyDrive/bike_sharing.csv')\n",
        "\n",
        "df.head().style.background_gradient(cmap='bone')"
      ],
      "metadata": {
        "colab": {
          "base_uri": "https://localhost:8080/",
          "height": 206
        },
        "id": "ni8xj_Mz0PDh",
        "outputId": "52f3c4ae-028f-40b0-c5fd-5cf3d233bcce"
      },
      "execution_count": 78,
      "outputs": [
        {
          "output_type": "execute_result",
          "data": {
            "text/plain": [
              "<pandas.io.formats.style.Styler at 0x7fa9a61edb50>"
            ],
            "text/html": [
              "<style type=\"text/css\">\n",
              "#T_87bfa_row0_col1, #T_87bfa_row0_col2, #T_87bfa_row0_col3, #T_87bfa_row0_col4, #T_87bfa_row0_col8, #T_87bfa_row1_col1, #T_87bfa_row1_col2, #T_87bfa_row1_col3, #T_87bfa_row1_col4, #T_87bfa_row1_col5, #T_87bfa_row1_col6, #T_87bfa_row1_col8, #T_87bfa_row2_col1, #T_87bfa_row2_col2, #T_87bfa_row2_col3, #T_87bfa_row2_col4, #T_87bfa_row2_col5, #T_87bfa_row2_col6, #T_87bfa_row2_col8, #T_87bfa_row3_col1, #T_87bfa_row3_col2, #T_87bfa_row3_col3, #T_87bfa_row3_col4, #T_87bfa_row3_col7, #T_87bfa_row3_col8, #T_87bfa_row4_col1, #T_87bfa_row4_col2, #T_87bfa_row4_col3, #T_87bfa_row4_col4, #T_87bfa_row4_col7, #T_87bfa_row4_col8, #T_87bfa_row4_col9, #T_87bfa_row4_col10, #T_87bfa_row4_col11 {\n",
              "  background-color: #000000;\n",
              "  color: #f1f1f1;\n",
              "}\n",
              "#T_87bfa_row0_col5, #T_87bfa_row0_col6, #T_87bfa_row0_col7, #T_87bfa_row1_col9, #T_87bfa_row1_col10, #T_87bfa_row1_col11, #T_87bfa_row3_col5, #T_87bfa_row3_col6, #T_87bfa_row4_col5, #T_87bfa_row4_col6 {\n",
              "  background-color: #ffffff;\n",
              "  color: #000000;\n",
              "}\n",
              "#T_87bfa_row0_col9, #T_87bfa_row3_col9 {\n",
              "  background-color: #545574;\n",
              "  color: #f1f1f1;\n",
              "}\n",
              "#T_87bfa_row0_col10 {\n",
              "  background-color: #575976;\n",
              "  color: #f1f1f1;\n",
              "}\n",
              "#T_87bfa_row0_col11 {\n",
              "  background-color: #565776;\n",
              "  color: #f1f1f1;\n",
              "}\n",
              "#T_87bfa_row1_col7, #T_87bfa_row2_col7 {\n",
              "  background-color: #c6dada;\n",
              "  color: #000000;\n",
              "}\n",
              "#T_87bfa_row2_col9 {\n",
              "  background-color: #8ca2ac;\n",
              "  color: #f1f1f1;\n",
              "}\n",
              "#T_87bfa_row2_col10 {\n",
              "  background-color: #c7dbdb;\n",
              "  color: #000000;\n",
              "}\n",
              "#T_87bfa_row2_col11 {\n",
              "  background-color: #b8d2d1;\n",
              "  color: #000000;\n",
              "}\n",
              "#T_87bfa_row3_col10 {\n",
              "  background-color: #41415a;\n",
              "  color: #f1f1f1;\n",
              "}\n",
              "#T_87bfa_row3_col11 {\n",
              "  background-color: #44445f;\n",
              "  color: #f1f1f1;\n",
              "}\n",
              "</style>\n",
              "<table id=\"T_87bfa_\" class=\"dataframe\">\n",
              "  <thead>\n",
              "    <tr>\n",
              "      <th class=\"blank level0\" >&nbsp;</th>\n",
              "      <th class=\"col_heading level0 col0\" >datetime</th>\n",
              "      <th class=\"col_heading level0 col1\" >season</th>\n",
              "      <th class=\"col_heading level0 col2\" >holiday</th>\n",
              "      <th class=\"col_heading level0 col3\" >workingday</th>\n",
              "      <th class=\"col_heading level0 col4\" >weather</th>\n",
              "      <th class=\"col_heading level0 col5\" >temp</th>\n",
              "      <th class=\"col_heading level0 col6\" >atemp</th>\n",
              "      <th class=\"col_heading level0 col7\" >humidity</th>\n",
              "      <th class=\"col_heading level0 col8\" >windspeed</th>\n",
              "      <th class=\"col_heading level0 col9\" >casual</th>\n",
              "      <th class=\"col_heading level0 col10\" >registered</th>\n",
              "      <th class=\"col_heading level0 col11\" >count</th>\n",
              "    </tr>\n",
              "  </thead>\n",
              "  <tbody>\n",
              "    <tr>\n",
              "      <th id=\"T_87bfa_level0_row0\" class=\"row_heading level0 row0\" >0</th>\n",
              "      <td id=\"T_87bfa_row0_col0\" class=\"data row0 col0\" >2011-01-01 00:00:00</td>\n",
              "      <td id=\"T_87bfa_row0_col1\" class=\"data row0 col1\" >1</td>\n",
              "      <td id=\"T_87bfa_row0_col2\" class=\"data row0 col2\" >0</td>\n",
              "      <td id=\"T_87bfa_row0_col3\" class=\"data row0 col3\" >0</td>\n",
              "      <td id=\"T_87bfa_row0_col4\" class=\"data row0 col4\" >1</td>\n",
              "      <td id=\"T_87bfa_row0_col5\" class=\"data row0 col5\" >9.840000</td>\n",
              "      <td id=\"T_87bfa_row0_col6\" class=\"data row0 col6\" >14.395000</td>\n",
              "      <td id=\"T_87bfa_row0_col7\" class=\"data row0 col7\" >81</td>\n",
              "      <td id=\"T_87bfa_row0_col8\" class=\"data row0 col8\" >0.000000</td>\n",
              "      <td id=\"T_87bfa_row0_col9\" class=\"data row0 col9\" >3</td>\n",
              "      <td id=\"T_87bfa_row0_col10\" class=\"data row0 col10\" >13</td>\n",
              "      <td id=\"T_87bfa_row0_col11\" class=\"data row0 col11\" >16</td>\n",
              "    </tr>\n",
              "    <tr>\n",
              "      <th id=\"T_87bfa_level0_row1\" class=\"row_heading level0 row1\" >1</th>\n",
              "      <td id=\"T_87bfa_row1_col0\" class=\"data row1 col0\" >2011-01-01 01:00:00</td>\n",
              "      <td id=\"T_87bfa_row1_col1\" class=\"data row1 col1\" >1</td>\n",
              "      <td id=\"T_87bfa_row1_col2\" class=\"data row1 col2\" >0</td>\n",
              "      <td id=\"T_87bfa_row1_col3\" class=\"data row1 col3\" >0</td>\n",
              "      <td id=\"T_87bfa_row1_col4\" class=\"data row1 col4\" >1</td>\n",
              "      <td id=\"T_87bfa_row1_col5\" class=\"data row1 col5\" >9.020000</td>\n",
              "      <td id=\"T_87bfa_row1_col6\" class=\"data row1 col6\" >13.635000</td>\n",
              "      <td id=\"T_87bfa_row1_col7\" class=\"data row1 col7\" >80</td>\n",
              "      <td id=\"T_87bfa_row1_col8\" class=\"data row1 col8\" >0.000000</td>\n",
              "      <td id=\"T_87bfa_row1_col9\" class=\"data row1 col9\" >8</td>\n",
              "      <td id=\"T_87bfa_row1_col10\" class=\"data row1 col10\" >32</td>\n",
              "      <td id=\"T_87bfa_row1_col11\" class=\"data row1 col11\" >40</td>\n",
              "    </tr>\n",
              "    <tr>\n",
              "      <th id=\"T_87bfa_level0_row2\" class=\"row_heading level0 row2\" >2</th>\n",
              "      <td id=\"T_87bfa_row2_col0\" class=\"data row2 col0\" >2011-01-01 02:00:00</td>\n",
              "      <td id=\"T_87bfa_row2_col1\" class=\"data row2 col1\" >1</td>\n",
              "      <td id=\"T_87bfa_row2_col2\" class=\"data row2 col2\" >0</td>\n",
              "      <td id=\"T_87bfa_row2_col3\" class=\"data row2 col3\" >0</td>\n",
              "      <td id=\"T_87bfa_row2_col4\" class=\"data row2 col4\" >1</td>\n",
              "      <td id=\"T_87bfa_row2_col5\" class=\"data row2 col5\" >9.020000</td>\n",
              "      <td id=\"T_87bfa_row2_col6\" class=\"data row2 col6\" >13.635000</td>\n",
              "      <td id=\"T_87bfa_row2_col7\" class=\"data row2 col7\" >80</td>\n",
              "      <td id=\"T_87bfa_row2_col8\" class=\"data row2 col8\" >0.000000</td>\n",
              "      <td id=\"T_87bfa_row2_col9\" class=\"data row2 col9\" >5</td>\n",
              "      <td id=\"T_87bfa_row2_col10\" class=\"data row2 col10\" >27</td>\n",
              "      <td id=\"T_87bfa_row2_col11\" class=\"data row2 col11\" >32</td>\n",
              "    </tr>\n",
              "    <tr>\n",
              "      <th id=\"T_87bfa_level0_row3\" class=\"row_heading level0 row3\" >3</th>\n",
              "      <td id=\"T_87bfa_row3_col0\" class=\"data row3 col0\" >2011-01-01 03:00:00</td>\n",
              "      <td id=\"T_87bfa_row3_col1\" class=\"data row3 col1\" >1</td>\n",
              "      <td id=\"T_87bfa_row3_col2\" class=\"data row3 col2\" >0</td>\n",
              "      <td id=\"T_87bfa_row3_col3\" class=\"data row3 col3\" >0</td>\n",
              "      <td id=\"T_87bfa_row3_col4\" class=\"data row3 col4\" >1</td>\n",
              "      <td id=\"T_87bfa_row3_col5\" class=\"data row3 col5\" >9.840000</td>\n",
              "      <td id=\"T_87bfa_row3_col6\" class=\"data row3 col6\" >14.395000</td>\n",
              "      <td id=\"T_87bfa_row3_col7\" class=\"data row3 col7\" >75</td>\n",
              "      <td id=\"T_87bfa_row3_col8\" class=\"data row3 col8\" >0.000000</td>\n",
              "      <td id=\"T_87bfa_row3_col9\" class=\"data row3 col9\" >3</td>\n",
              "      <td id=\"T_87bfa_row3_col10\" class=\"data row3 col10\" >10</td>\n",
              "      <td id=\"T_87bfa_row3_col11\" class=\"data row3 col11\" >13</td>\n",
              "    </tr>\n",
              "    <tr>\n",
              "      <th id=\"T_87bfa_level0_row4\" class=\"row_heading level0 row4\" >4</th>\n",
              "      <td id=\"T_87bfa_row4_col0\" class=\"data row4 col0\" >2011-01-01 04:00:00</td>\n",
              "      <td id=\"T_87bfa_row4_col1\" class=\"data row4 col1\" >1</td>\n",
              "      <td id=\"T_87bfa_row4_col2\" class=\"data row4 col2\" >0</td>\n",
              "      <td id=\"T_87bfa_row4_col3\" class=\"data row4 col3\" >0</td>\n",
              "      <td id=\"T_87bfa_row4_col4\" class=\"data row4 col4\" >1</td>\n",
              "      <td id=\"T_87bfa_row4_col5\" class=\"data row4 col5\" >9.840000</td>\n",
              "      <td id=\"T_87bfa_row4_col6\" class=\"data row4 col6\" >14.395000</td>\n",
              "      <td id=\"T_87bfa_row4_col7\" class=\"data row4 col7\" >75</td>\n",
              "      <td id=\"T_87bfa_row4_col8\" class=\"data row4 col8\" >0.000000</td>\n",
              "      <td id=\"T_87bfa_row4_col9\" class=\"data row4 col9\" >0</td>\n",
              "      <td id=\"T_87bfa_row4_col10\" class=\"data row4 col10\" >1</td>\n",
              "      <td id=\"T_87bfa_row4_col11\" class=\"data row4 col11\" >1</td>\n",
              "    </tr>\n",
              "  </tbody>\n",
              "</table>\n"
            ]
          },
          "metadata": {},
          "execution_count": 78
        }
      ]
    },
    {
      "cell_type": "markdown",
      "source": [
        "## Column Profiling:\n",
        "\n",
        "datetime: datetime\n",
        "\n",
        "season: season (1: spring, 2: summer, 3: fall, 4: winter)\n",
        "\n",
        "holiday: whether day is a holiday or not (extracted from http://dchr.dc.gov/page/holiday-schedule)\n",
        "\n",
        "workingday: if day is neither weekend nor holiday is 1, otherwise is 0.\n",
        "\n",
        "weather:\n",
        "\n",
        "    1: Clear, Few clouds, partly cloudy, partly cloudy\n",
        "\n",
        "    2: Mist + Cloudy, Mist + Broken clouds, Mist + Few clouds, Mist\n",
        "\n",
        "    3: Light Snow, Light Rain + Thunderstorm + Scattered clouds, Light Rain + Scattered clouds\n",
        "\n",
        "    4: Heavy Rain + Ice Pallets + Thunderstorm + Mist, Snow + Fog\n",
        "\n",
        "temp: temperature in Celsius\n",
        "\n",
        "atemp: feeling temperature in Celsius\n",
        "\n",
        "humidity: humidity\n",
        "\n",
        "windspeed: wind speed\n",
        "\n",
        "casual: count of casual users\n",
        "\n",
        "registered: count of registered users\n",
        "\n",
        "count: count of total rental bikes including both casual and registered\n"
      ],
      "metadata": {
        "id": "iDLsRV2FRGPY"
      }
    },
    {
      "cell_type": "code",
      "source": [
        "df.shape"
      ],
      "metadata": {
        "colab": {
          "base_uri": "https://localhost:8080/",
          "height": 0
        },
        "id": "6FkvSfu10b28",
        "outputId": "66f96a80-ce84-4a5c-9e73-82b7d78f5be3"
      },
      "execution_count": 79,
      "outputs": [
        {
          "output_type": "execute_result",
          "data": {
            "text/plain": [
              "(10886, 12)"
            ]
          },
          "metadata": {},
          "execution_count": 79
        }
      ]
    },
    {
      "cell_type": "code",
      "source": [
        "# Checking the dataframe for any null values (Hidden Input)\n",
        "\n",
        "df.info()"
      ],
      "metadata": {
        "colab": {
          "base_uri": "https://localhost:8080/",
          "height": 0
        },
        "id": "bq3nSO6b0n3-",
        "outputId": "54724e32-4e51-415d-bd45-6dbb3db3a2c7"
      },
      "execution_count": 80,
      "outputs": [
        {
          "output_type": "stream",
          "name": "stdout",
          "text": [
            "<class 'pandas.core.frame.DataFrame'>\n",
            "RangeIndex: 10886 entries, 0 to 10885\n",
            "Data columns (total 12 columns):\n",
            " #   Column      Non-Null Count  Dtype  \n",
            "---  ------      --------------  -----  \n",
            " 0   datetime    10886 non-null  object \n",
            " 1   season      10886 non-null  int64  \n",
            " 2   holiday     10886 non-null  int64  \n",
            " 3   workingday  10886 non-null  int64  \n",
            " 4   weather     10886 non-null  int64  \n",
            " 5   temp        10886 non-null  float64\n",
            " 6   atemp       10886 non-null  float64\n",
            " 7   humidity    10886 non-null  int64  \n",
            " 8   windspeed   10886 non-null  float64\n",
            " 9   casual      10886 non-null  int64  \n",
            " 10  registered  10886 non-null  int64  \n",
            " 11  count       10886 non-null  int64  \n",
            "dtypes: float64(3), int64(8), object(1)\n",
            "memory usage: 1020.7+ KB\n"
          ]
        }
      ]
    },
    {
      "cell_type": "markdown",
      "source": [
        "### Visualizing Categorical Variables"
      ],
      "metadata": {
        "id": "vn4mPtSs2LX6"
      }
    },
    {
      "cell_type": "code",
      "source": [
        "# Performing EDA on the Categorical columns (Hidden Input)\n",
        "\n",
        "num_cols = list(df.select_dtypes([\"int64\",\"float64\"]))\n",
        "cat_cols = list(df.select_dtypes(\"object\"))\n",
        "\n",
        "# Columns required for Categrical visualizations\n",
        "\n",
        "cat_col_vis = ['season','holiday','workingday','weather']\n",
        "\n",
        "fig, ax = plt.subplots(ncols=1, nrows=4, figsize=(16, 28))\n",
        "                \n",
        "i = 0 #counter\n",
        "\n",
        "for cols in cat_col_vis:\n",
        "    \n",
        "    sns.barplot(x=df[cols], y=df['count'], fill=True, alpha=1, ci=None, ax=ax[i], palette=('#17252a', '#2b7a78','#3aafa9',\n",
        "                                                                                                     '#def2f1','#feffff'),\n",
        "                                                                                            edgecolor=\"#c5c6c7\")\n",
        "                \n",
        "    ax[i].set_xlabel(' ')\n",
        "    ax[i].set_xlabel(' ')\n",
        "    ax[i].set_ylabel(' ')\n",
        "    ax[i].xaxis.set_tick_params(labelsize=14)\n",
        "    ax[i].tick_params(left=False, labelleft=False)\n",
        "    ax[i].set_ylabel(cols, fontsize=16)    \n",
        "    ax[i].grid(False)\n",
        "  #  ax[i].bar_label(ax[i].containers[0], size=\"12\")\n",
        "    i=i+1\n",
        "    \n",
        "      \n",
        "plt.show()"
      ],
      "metadata": {
        "colab": {
          "base_uri": "https://localhost:8080/",
          "height": 1055
        },
        "id": "zOJamjou0v3n",
        "outputId": "8054f058-58a6-47f7-b1a9-032c0ec48fde"
      },
      "execution_count": 81,
      "outputs": [
        {
          "output_type": "display_data",
          "data": {
            "text/plain": [
              "<Figure size 1152x2016 with 4 Axes>"
            ],
            "image/png": "[encoded data removed]"
          },
          "metadata": {}
        }
      ]
    },
    {
      "cell_type": "markdown",
      "source": [
        "### Visualizing Numerical Variables"
      ],
      "metadata": {
        "id": "rEDFyAzP2fSH"
      }
    },
    {
      "cell_type": "code",
      "source": [
        "# Visualizing the Numerical Columns (Hidden Input) and treating outliers\n",
        "\n",
        "plt.figure(figsize=[16,12])\n",
        "plt.subplot(2,2,1)\n",
        "plt.scatter( x=df['temp'], y=df['count'], c=\"#2b7a78\")\n",
        "plt.xlabel(\"Temperature\")\n",
        "plt.grid(False)\n",
        "plt.subplot(2,2,2)\n",
        "plt.scatter( x=df['atemp'], y=df['count'], c='#1f2833')\n",
        "plt.xlabel(\"Feeling Temperature\")\n",
        "plt.grid(False)\n",
        "plt.subplot(2,2,3)\n",
        "plt.scatter( x=df['humidity'], y=df['count'], c='#17252a')\n",
        "plt.xlabel(\"Humidity\")\n",
        "plt.grid(False)\n",
        "plt.subplot(2,2,4)\n",
        "plt.scatter( x=df['windspeed'], y=df['count'], c='#feffff')\n",
        "plt.xlabel(\"Wind Speed\")\n",
        "plt.grid(False)\n",
        "plt.show()"
      ],
      "metadata": {
        "colab": {
          "base_uri": "https://localhost:8080/",
          "height": 720
        },
        "id": "CuGXa7ah1Frz",
        "outputId": "e453c76c-c48c-458a-9118-608123a43180"
      },
      "execution_count": 82,
      "outputs": [
        {
          "output_type": "display_data",
          "data": {
            "text/plain": [
              "<Figure size 1152x864 with 4 Axes>"
            ],
            "image/png": "[encoded data removed]"
          },
          "metadata": {}
        }
      ]
    },
    {
      "cell_type": "code",
      "source": [
        "heat = df.corr()\n",
        "plt.figure(figsize=[16,8])\n",
        "plt.title(\"Correlation between all the Numerical Features\", size=25, pad=20, color='#0b0c10')\n",
        "sns.heatmap(heat, cmap=['#0b0c10', '#1f2833','#c5c6c7','#45a29e','#66fcf1'], annot=True)\n",
        "plt.xticks(size=15)\n",
        "plt.yticks(size=15, rotation=360)\n",
        "plt.show()"
      ],
      "metadata": {
        "colab": {
          "base_uri": "https://localhost:8080/",
          "height": 529
        },
        "id": "x_FJfCUE2QVz",
        "outputId": "f65455a2-8191-4499-acac-0173990a6f55"
      },
      "execution_count": 83,
      "outputs": [
        {
          "output_type": "display_data",
          "data": {
            "text/plain": [
              "<Figure size 1152x576 with 2 Axes>"
            ],
            "image/png": "[encoded data removed]"
          },
          "metadata": {}
        }
      ]
    },
    {
      "cell_type": "markdown",
      "source": [
        "Actual temperature and the feeling temperature has very high correlation within themselves, so it is better to drop one to remove any sort of multicollinearity."
      ],
      "metadata": {
        "id": "drHwKtze2yUU"
      }
    },
    {
      "cell_type": "code",
      "source": [
        "sns.boxplot(x='workingday', y='count', data =df)\n"
      ],
      "metadata": {
        "colab": {
          "base_uri": "https://localhost:8080/",
          "height": 303
        },
        "id": "MSNBpCeH2m_J",
        "outputId": "d64e13dc-fbee-4a57-b85b-e3bc3921aff0"
      },
      "execution_count": 84,
      "outputs": [
        {
          "output_type": "execute_result",
          "data": {
            "text/plain": [
              "<matplotlib.axes._subplots.AxesSubplot at 0x7fa99f6f2990>"
            ]
          },
          "metadata": {},
          "execution_count": 84
        },
        {
          "output_type": "display_data",
          "data": {
            "text/plain": [
              "<Figure size 432x288 with 1 Axes>"
            ],
            "image/png": "[encoded data removed]"
          },
          "metadata": {}
        }
      ]
    },
    {
      "cell_type": "code",
      "source": [
        "q1=df['count'].quantile(0.25)\n",
        "q3=df['count'].quantile(0.75)\n",
        "iqr=q3-q1\n",
        "df=df[(df['count']>(q1-1.5*iqr) ) & (df['count']<(q3+1.5*iqr))]\n",
        "df.shape"
      ],
      "metadata": {
        "colab": {
          "base_uri": "https://localhost:8080/",
          "height": 0
        },
        "id": "lOWBjfXD3CNI",
        "outputId": "ff5a6107-2093-4030-8bfa-b6c65c313ffb"
      },
      "execution_count": 85,
      "outputs": [
        {
          "output_type": "execute_result",
          "data": {
            "text/plain": [
              "(10583, 12)"
            ]
          },
          "metadata": {},
          "execution_count": 85
        }
      ]
    },
    {
      "cell_type": "code",
      "source": [
        "df.workingday.value_counts()\n"
      ],
      "metadata": {
        "colab": {
          "base_uri": "https://localhost:8080/",
          "height": 0
        },
        "id": "C2wmZc4A3OJ_",
        "outputId": "3dfdb8f4-5214-4a65-e324-b81811c9557f"
      },
      "execution_count": 86,
      "outputs": [
        {
          "output_type": "execute_result",
          "data": {
            "text/plain": [
              "1    7161\n",
              "0    3422\n",
              "Name: workingday, dtype: int64"
            ]
          },
          "metadata": {},
          "execution_count": 86
        }
      ]
    },
    {
      "cell_type": "code",
      "source": [
        "sns.boxplot(x='workingday', y='count', data =df)"
      ],
      "metadata": {
        "colab": {
          "base_uri": "https://localhost:8080/",
          "height": 303
        },
        "id": "Kvm2jshS3UR8",
        "outputId": "0f32fba5-0630-46d7-ec8d-6f68972f623b"
      },
      "execution_count": 87,
      "outputs": [
        {
          "output_type": "execute_result",
          "data": {
            "text/plain": [
              "<matplotlib.axes._subplots.AxesSubplot at 0x7fa99f688bd0>"
            ]
          },
          "metadata": {},
          "execution_count": 87
        },
        {
          "output_type": "display_data",
          "data": {
            "text/plain": [
              "<Figure size 432x288 with 1 Axes>"
            ],
            "image/png": "[encoded data removed]"
          },
          "metadata": {}
        }
      ]
    },
    {
      "cell_type": "markdown",
      "source": [
        "With visual analysis we see that the count doesn't depend much on the working day.\n",
        "\n",
        "Need to check using statistical methods\n"
      ],
      "metadata": {
        "id": "YR-meXof6GFs"
      }
    },
    {
      "cell_type": "markdown",
      "source": [
        "%important Points\n",
        "\n",
        "The t test as compared with z test is its advantage for small sample comparison.\n",
        "\n",
        " As n increases,\n",
        "t approaches to z. The advantage of t test disappears, and t distribution simply becomes z\n",
        "distribution. In other words, with large n. t test is just close to z test. and one don't loose anything\n",
        "to continue to use t test. In the past, for convenience, we use z table when n > 30. We don't have\n",
        "to do it anymore. In fact, all statistical packages use t test even n is large. \n",
        "\n",
        "This is easy,\n",
        "convenience with computer programming, and is correct. All statistical packages are good\n",
        "references."
      ],
      "metadata": {
        "id": "6s3m8ntS-asO"
      }
    },
    {
      "cell_type": "markdown",
      "source": [
        "### Step 1: Define the null and alternate hypotheses\n"
      ],
      "metadata": {
        "id": "oSVzvF26_Od1"
      }
    },
    {
      "cell_type": "markdown",
      "source": [
        "H0:  The count on weekday is equal to the count on weekend.\n",
        "\n",
        "Ha:  The count on weekday is greater than count on weekend."
      ],
      "metadata": {
        "id": "Wp4DYSOi_q6-"
      }
    },
    {
      "cell_type": "markdown",
      "source": [
        "### Step 2: Select Appropriate test\n",
        "\n",
        "This is a one-tailed test concerning two population means from two independent populations. \n",
        "\n",
        "As\n",
        "the population standard deviations are unknown, the two sample independent t-test will be the\n",
        "appropriate test for this problem."
      ],
      "metadata": {
        "id": "7IM46tPQ_7Wj"
      }
    },
    {
      "cell_type": "markdown",
      "source": [
        "### Step 3:Decide the significance level\n",
        "\n",
        "As given in the problem statement, we select α = 0.05"
      ],
      "metadata": {
        "id": "42yhJmFlAJ9-"
      }
    },
    {
      "cell_type": "markdown",
      "source": [
        "### Step 4: Collect and prepare data"
      ],
      "metadata": {
        "id": "9dlITiZpAdWH"
      }
    },
    {
      "cell_type": "code",
      "source": [
        "weekday = df[df['workingday'] == 1]['count'].sample(3422) #Taking same sample size for both hypothesis \n",
        "weekend = df[df['workingday'] == 0]['count'].sample(3422)\n"
      ],
      "metadata": {
        "id": "2PnvV9KR3bfU"
      },
      "execution_count": 88,
      "outputs": []
    },
    {
      "cell_type": "code",
      "source": [
        "print('The sample standard deviation of the count on weekday is:', round(weekday.std(),2));\n",
        "print('The sample standard deviation of the count on weekend is:', round(weekend.std(),2))"
      ],
      "metadata": {
        "colab": {
          "base_uri": "https://localhost:8080/",
          "height": 0
        },
        "id": "SCLv_941Av0Z",
        "outputId": "415e4bd0-9f40-42ab-b984-e4ad75e75aff"
      },
      "execution_count": 89,
      "outputs": [
        {
          "output_type": "stream",
          "name": "stdout",
          "text": [
            "The sample standard deviation of the count on weekday is: 151.48\n",
            "The sample standard deviation of the count on weekend is: 163.78\n"
          ]
        }
      ]
    },
    {
      "cell_type": "markdown",
      "source": [
        "As the sample standard deviations are different, the population standard deviations may be\n",
        "assumed to be different."
      ],
      "metadata": {
        "id": "7ibRMsIIBo8Z"
      }
    },
    {
      "cell_type": "markdown",
      "source": [
        "### Step 5: Calculate the p-value"
      ],
      "metadata": {
        "id": "iHQqe82lBtlX"
      }
    },
    {
      "cell_type": "code",
      "source": [
        "\n",
        "# find the p-value\n",
        "test_stat, p_value = ttest_ind(weekday, weekend, equal_var = False, alternative = 'greater')\n",
        "print('The p-value is', p_value)\n"
      ],
      "metadata": {
        "colab": {
          "base_uri": "https://localhost:8080/",
          "height": 0
        },
        "id": "EsAGuWUIA8yN",
        "outputId": "356ba17d-1ccf-4311-eff0-3d352a99fbc5"
      },
      "execution_count": 90,
      "outputs": [
        {
          "output_type": "stream",
          "name": "stdout",
          "text": [
            "The p-value is 0.965070410562645\n"
          ]
        }
      ]
    },
    {
      "cell_type": "code",
      "source": [
        "# print the conclusion based on p-value\n",
        "if p_value < 0.05:\n",
        "    print(f'As the p-value {p_value} is less than the level of significance, we reject the null hypothesis')\n",
        "else:\n",
        "    print(f'As the p-value {p_value} is greater than the level of significance, we  fail to reject null hypothesis')\n"
      ],
      "metadata": {
        "colab": {
          "base_uri": "https://localhost:8080/",
          "height": 0
        },
        "id": "z_vJjHMzCAMg",
        "outputId": "49f700c4-54fc-41c0-fb47-31d16d0ad23b"
      },
      "execution_count": 91,
      "outputs": [
        {
          "output_type": "stream",
          "name": "stdout",
          "text": [
            "As the p-value 0.965070410562645 is greater than the level of significance, we  fail to reject null hypothesis\n"
          ]
        }
      ]
    },
    {
      "cell_type": "markdown",
      "source": [
        "## Is the demand of electric cycles same for different weather"
      ],
      "metadata": {
        "id": "nQlbvF2JCoMg"
      }
    },
    {
      "cell_type": "code",
      "source": [
        "df.weather.value_counts()\n"
      ],
      "metadata": {
        "colab": {
          "base_uri": "https://localhost:8080/",
          "height": 0
        },
        "id": "ByJ4lBYlCRAh",
        "outputId": "299098df-6d7b-46c5-b959-a84e5b50e3c2"
      },
      "execution_count": 92,
      "outputs": [
        {
          "output_type": "execute_result",
          "data": {
            "text/plain": [
              "1    6962\n",
              "2    2770\n",
              "3     850\n",
              "4       1\n",
              "Name: weather, dtype: int64"
            ]
          },
          "metadata": {},
          "execution_count": 92
        }
      ]
    },
    {
      "cell_type": "markdown",
      "source": [
        "Droping weather 4 due to less no of sample size"
      ],
      "metadata": {
        "id": "xZq8keyKCyCL"
      }
    },
    {
      "cell_type": "code",
      "source": [
        "df=df[~(df['weather']==4)]"
      ],
      "metadata": {
        "id": "zCRZSgmWCveN"
      },
      "execution_count": 93,
      "outputs": []
    },
    {
      "cell_type": "code",
      "source": [
        "w1 = df[df['weather'] == 1]['count'].sample(850)\n",
        "w2= df[df['weather'] == 2]['count'].sample(850)\n",
        "w3 = df[df['weather'] == 3]['count'].sample(850)\n"
      ],
      "metadata": {
        "id": "M5sFSpsiC67N"
      },
      "execution_count": 94,
      "outputs": []
    },
    {
      "cell_type": "code",
      "source": [
        "df.groupby(['weather'])['count'].describe()\n"
      ],
      "metadata": {
        "colab": {
          "base_uri": "https://localhost:8080/",
          "height": 175
        },
        "id": "3WsctVQWC-YE",
        "outputId": "3ed78269-f800-45e8-a0ef-f4c2c261973a"
      },
      "execution_count": 95,
      "outputs": [
        {
          "output_type": "execute_result",
          "data": {
            "text/plain": [
              "          count        mean         std  min   25%    50%    75%    max\n",
              "weather                                                                \n",
              "1        6962.0  187.131140  161.333785  1.0  45.0  153.0  286.0  646.0\n",
              "2        2770.0  166.117690  146.992422  1.0  39.0  130.0  254.0  646.0\n",
              "3         850.0  111.862353  121.233389  1.0  23.0   70.5  157.0  646.0"
            ],
            "text/html": [
              "\n",
              "  <div id=\"df-d70afd52-1aae-47ab-a84f-ce5388b7012d\">\n",
              "    <div class=\"colab-df-container\">\n",
              "      <div>\n",
              "<style scoped>\n",
              "    .dataframe tbody tr th:only-of-type {\n",
              "        vertical-align: middle;\n",
              "    }\n",
              "\n",
              "    .dataframe tbody tr th {\n",
              "        vertical-align: top;\n",
              "    }\n",
              "\n",
              "    .dataframe thead th {\n",
              "        text-align: right;\n",
              "    }\n",
              "</style>\n",
              "<table border=\"1\" class=\"dataframe\">\n",
              "  <thead>\n",
              "    <tr style=\"text-align: right;\">\n",
              "      <th></th>\n",
              "      <th>count</th>\n",
              "      <th>mean</th>\n",
              "      <th>std</th>\n",
              "      <th>min</th>\n",
              "      <th>25%</th>\n",
              "      <th>50%</th>\n",
              "      <th>75%</th>\n",
              "      <th>max</th>\n",
              "    </tr>\n",
              "    <tr>\n",
              "      <th>weather</th>\n",
              "      <th></th>\n",
              "      <th></th>\n",
              "      <th></th>\n",
              "      <th></th>\n",
              "      <th></th>\n",
              "      <th></th>\n",
              "      <th></th>\n",
              "      <th></th>\n",
              "    </tr>\n",
              "  </thead>\n",
              "  <tbody>\n",
              "    <tr>\n",
              "      <th>1</th>\n",
              "      <td>6962.0</td>\n",
              "      <td>187.131140</td>\n",
              "      <td>161.333785</td>\n",
              "      <td>1.0</td>\n",
              "      <td>45.0</td>\n",
              "      <td>153.0</td>\n",
              "      <td>286.0</td>\n",
              "      <td>646.0</td>\n",
              "    </tr>\n",
              "    <tr>\n",
              "      <th>2</th>\n",
              "      <td>2770.0</td>\n",
              "      <td>166.117690</td>\n",
              "      <td>146.992422</td>\n",
              "      <td>1.0</td>\n",
              "      <td>39.0</td>\n",
              "      <td>130.0</td>\n",
              "      <td>254.0</td>\n",
              "      <td>646.0</td>\n",
              "    </tr>\n",
              "    <tr>\n",
              "      <th>3</th>\n",
              "      <td>850.0</td>\n",
              "      <td>111.862353</td>\n",
              "      <td>121.233389</td>\n",
              "      <td>1.0</td>\n",
              "      <td>23.0</td>\n",
              "      <td>70.5</td>\n",
              "      <td>157.0</td>\n",
              "      <td>646.0</td>\n",
              "    </tr>\n",
              "  </tbody>\n",
              "</table>\n",
              "</div>\n",
              "      <button class=\"colab-df-convert\" onclick=\"convertToInteractive('df-d70afd52-1aae-47ab-a84f-ce5388b7012d')\"\n",
              "              title=\"Convert this dataframe to an interactive table.\"\n",
              "              style=\"display:none;\">\n",
              "        \n",
              "  <svg xmlns=\"http://www.w3.org/2000/svg\" height=\"24px\"viewBox=\"0 0 24 24\"\n",
              "       width=\"24px\">\n",
              "    <path d=\"M0 0h24v24H0V0z\" fill=\"none\"/>\n",
              "    <path d=\"M18.56 5.44l.94 2.06.94-2.06 2.06-.94-2.06-.94-.94-2.06-.94 2.06-2.06.94zm-11 1L8.5 8.5l.94-2.06 2.06-.94-2.06-.94L8.5 2.5l-.94 2.06-2.06.94zm10 10l.94 2.06.94-2.06 2.06-.94-2.06-.94-.94-2.06-.94 2.06-2.06.94z\"/><path d=\"M17.41 7.96l-1.37-1.37c-.4-.4-.92-.59-1.43-.59-.52 0-1.04.2-1.43.59L10.3 9.45l-7.72 7.72c-.78.78-.78 2.05 0 2.83L4 21.41c.39.39.9.59 1.41.59.51 0 1.02-.2 1.41-.59l7.78-7.78 2.81-2.81c.8-.78.8-2.07 0-2.86zM5.41 20L4 18.59l7.72-7.72 1.47 1.35L5.41 20z\"/>\n",
              "  </svg>\n",
              "      </button>\n",
              "      \n",
              "  <style>\n",
              "    .colab-df-container {\n",
              "      display:flex;\n",
              "      flex-wrap:wrap;\n",
              "      gap: 12px;\n",
              "    }\n",
              "\n",
              "    .colab-df-convert {\n",
              "      background-color: #E8F0FE;\n",
              "      border: none;\n",
              "      border-radius: 50%;\n",
              "      cursor: pointer;\n",
              "      display: none;\n",
              "      fill: #1967D2;\n",
              "      height: 32px;\n",
              "      padding: 0 0 0 0;\n",
              "      width: 32px;\n",
              "    }\n",
              "\n",
              "    .colab-df-convert:hover {\n",
              "      background-color: #E2EBFA;\n",
              "      box-shadow: 0px 1px 2px rgba(60, 64, 67, 0.3), 0px 1px 3px 1px rgba(60, 64, 67, 0.15);\n",
              "      fill: #174EA6;\n",
              "    }\n",
              "\n",
              "    [theme=dark] .colab-df-convert {\n",
              "      background-color: #3B4455;\n",
              "      fill: #D2E3FC;\n",
              "    }\n",
              "\n",
              "    [theme=dark] .colab-df-convert:hover {\n",
              "      background-color: #434B5C;\n",
              "      box-shadow: 0px 1px 3px 1px rgba(0, 0, 0, 0.15);\n",
              "      filter: drop-shadow(0px 1px 2px rgba(0, 0, 0, 0.3));\n",
              "      fill: #FFFFFF;\n",
              "    }\n",
              "  </style>\n",
              "\n",
              "      <script>\n",
              "        const buttonEl =\n",
              "          document.querySelector('#df-d70afd52-1aae-47ab-a84f-ce5388b7012d button.colab-df-convert');\n",
              "        buttonEl.style.display =\n",
              "          google.colab.kernel.accessAllowed ? 'block' : 'none';\n",
              "\n",
              "        async function convertToInteractive(key) {\n",
              "          const element = document.querySelector('#df-d70afd52-1aae-47ab-a84f-ce5388b7012d');\n",
              "          const dataTable =\n",
              "            await google.colab.kernel.invokeFunction('convertToInteractive',\n",
              "                                                     [key], {});\n",
              "          if (!dataTable) return;\n",
              "\n",
              "          const docLinkHtml = 'Like what you see? Visit the ' +\n",
              "            '<a target=\"_blank\" href=https://colab.research.google.com/notebooks/data_table.ipynb>data table notebook</a>'\n",
              "            + ' to learn more about interactive tables.';\n",
              "          element.innerHTML = '';\n",
              "          dataTable['output_type'] = 'display_data';\n",
              "          await google.colab.output.renderOutput(dataTable, element);\n",
              "          const docLink = document.createElement('div');\n",
              "          docLink.innerHTML = docLinkHtml;\n",
              "          element.appendChild(docLink);\n",
              "        }\n",
              "      </script>\n",
              "    </div>\n",
              "  </div>\n",
              "  "
            ]
          },
          "metadata": {},
          "execution_count": 95
        }
      ]
    },
    {
      "cell_type": "markdown",
      "source": [
        "### Step 1: Define the null and alternate hypotheses\n"
      ],
      "metadata": {
        "id": "VLGt3lAeDR55"
      }
    },
    {
      "cell_type": "markdown",
      "source": [
        "H0: The mean count in different weather are equal.\n",
        "\n",
        "Ha: The mean count in different weather are different."
      ],
      "metadata": {
        "id": "c9UVU96eDdaj"
      }
    },
    {
      "cell_type": "markdown",
      "source": [
        "### Step 2: Select Appropriate test\n",
        "\n",
        "This is a problem, concerning three population means. One-way ANOVA could be the appropriate\n",
        "test here provided normality and equality of variance assumptions are verified.\n",
        "\n",
        "1.   For testing of normality, Shapiro-Wilk’s test is applied to the response variable.\n",
        "2.   For equality of variance, Levene test is applied to the response variable\n",
        "\n"
      ],
      "metadata": {
        "id": "jy2Y2itRDyZ6"
      }
    },
    {
      "cell_type": "markdown",
      "source": [
        "Shapiro-Wilk’s test"
      ],
      "metadata": {
        "id": "eFV6-s4WFpTH"
      }
    },
    {
      "cell_type": "code",
      "source": [
        "# Assumption 1: Normality"
      ],
      "metadata": {
        "id": "IvADpupuDBqq"
      },
      "execution_count": 96,
      "outputs": []
    },
    {
      "cell_type": "code",
      "source": [
        "w, p_value = shapiro(df['count'].sample(4999)) \n",
        "print('The p-value is', p_value)"
      ],
      "metadata": {
        "colab": {
          "base_uri": "https://localhost:8080/",
          "height": 0
        },
        "id": "NhCK5LH3EUf9",
        "outputId": "e3551f2b-8aa8-42c7-bf7e-d86509da345e"
      },
      "execution_count": 97,
      "outputs": [
        {
          "output_type": "stream",
          "name": "stdout",
          "text": [
            "The p-value is 0.0\n"
          ]
        }
      ]
    },
    {
      "cell_type": "markdown",
      "source": [
        "As p-value is 0.0, se we reject the hypothesis. as distribution is not normal."
      ],
      "metadata": {
        "id": "_XZwb1h-Ep0L"
      }
    },
    {
      "cell_type": "code",
      "source": [
        "sns.distplot(df['count'].sample(4999))\n"
      ],
      "metadata": {
        "colab": {
          "base_uri": "https://localhost:8080/",
          "height": 305
        },
        "id": "z3QuBhpeEXJn",
        "outputId": "061614ea-8556-4d79-f5bf-0494932136bb"
      },
      "execution_count": 98,
      "outputs": [
        {
          "output_type": "execute_result",
          "data": {
            "text/plain": [
              "<matplotlib.axes._subplots.AxesSubplot at 0x7fa99f6913d0>"
            ]
          },
          "metadata": {},
          "execution_count": 98
        },
        {
          "output_type": "display_data",
          "data": {
            "text/plain": [
              "<Figure size 432x288 with 1 Axes>"
            ],
            "image/png": "[encoded data removed]"
          },
          "metadata": {}
        }
      ]
    },
    {
      "cell_type": "code",
      "source": [
        "sns.distplot(np.log(df['count'].sample(4999)))\n"
      ],
      "metadata": {
        "colab": {
          "base_uri": "https://localhost:8080/",
          "height": 303
        },
        "id": "1MKpjz-GEbjK",
        "outputId": "ddfd86c9-0ec6-4f36-a7bf-571633fb22dd"
      },
      "execution_count": 99,
      "outputs": [
        {
          "output_type": "execute_result",
          "data": {
            "text/plain": [
              "<matplotlib.axes._subplots.AxesSubplot at 0x7fa99f535350>"
            ]
          },
          "metadata": {},
          "execution_count": 99
        },
        {
          "output_type": "display_data",
          "data": {
            "text/plain": [
              "<Figure size 432x288 with 1 Axes>"
            ],
            "image/png": "[encoded data removed]"
          },
          "metadata": {}
        }
      ]
    },
    {
      "cell_type": "markdown",
      "source": [
        "We will continue our analysis even our assumption is failed"
      ],
      "metadata": {
        "id": "vNByK9G7FVhX"
      }
    },
    {
      "cell_type": "markdown",
      "source": [
        "Levene’s test"
      ],
      "metadata": {
        "id": "_FiB7tSaFjw_"
      }
    },
    {
      "cell_type": "markdown",
      "source": [
        "We will test the null hypothesis \n",
        "\n",
        "H0:  All the count variances are equal\n",
        "\n",
        "\n",
        "against the alternative hypothesis\n",
        "\n",
        "Ha: At least one variance is different from the rest\n"
      ],
      "metadata": {
        "id": "RXEEBMpEFyeF"
      }
    },
    {
      "cell_type": "code",
      "source": [
        "#Assumption 2: Homogeneity of Variance\n",
        "statistic, p_value = levene( w1, \n",
        "                             w2, \n",
        "                             w3)\n"
      ],
      "metadata": {
        "id": "ggfbibfkE2rF"
      },
      "execution_count": 100,
      "outputs": []
    },
    {
      "cell_type": "code",
      "source": [
        "#find the p-value\n",
        "print('The p-value is', p_value)"
      ],
      "metadata": {
        "colab": {
          "base_uri": "https://localhost:8080/",
          "height": 0
        },
        "id": "4WTw9I2bGBo_",
        "outputId": "4e9e0276-aeec-48b8-81b6-4648f193d0c1"
      },
      "execution_count": 101,
      "outputs": [
        {
          "output_type": "stream",
          "name": "stdout",
          "text": [
            "The p-value is 2.8869764913811756e-21\n"
          ]
        }
      ]
    },
    {
      "cell_type": "code",
      "source": [
        "p_value>0.05"
      ],
      "metadata": {
        "colab": {
          "base_uri": "https://localhost:8080/",
          "height": 0
        },
        "id": "0oNw7zJVGEBZ",
        "outputId": "19401076-eab3-4c42-fa6f-5eb55ddb3992"
      },
      "execution_count": 102,
      "outputs": [
        {
          "output_type": "execute_result",
          "data": {
            "text/plain": [
              "False"
            ]
          },
          "metadata": {},
          "execution_count": 102
        }
      ]
    },
    {
      "cell_type": "code",
      "source": [
        "print(w1.var(), w2.var(), w3.var())\n"
      ],
      "metadata": {
        "colab": {
          "base_uri": "https://localhost:8080/",
          "height": 0
        },
        "id": "g7xpISN9GjIy",
        "outputId": "79027b40-7b26-4678-b49c-b256e6a0dd32"
      },
      "execution_count": 103,
      "outputs": [
        {
          "output_type": "stream",
          "name": "stdout",
          "text": [
            "25382.21334580475 22434.382562183884 14697.534623432412\n"
          ]
        }
      ]
    },
    {
      "cell_type": "markdown",
      "source": [
        "Our null hyphothesis is true for this scenario, All the count variance are equal"
      ],
      "metadata": {
        "id": "dhYQsDDbGUSV"
      }
    },
    {
      "cell_type": "markdown",
      "source": [
        "ANOVA"
      ],
      "metadata": {
        "id": "DD_N5d1zGpY0"
      }
    },
    {
      "cell_type": "code",
      "source": [
        "# find the p-value\n",
        "test_stat, p_value = f_oneway(w1,w2,w3)\n",
        "# print the p-value\n",
        "print('The p-value is', p_value)"
      ],
      "metadata": {
        "colab": {
          "base_uri": "https://localhost:8080/",
          "height": 0
        },
        "id": "eYRN2GXcGvBZ",
        "outputId": "aa0d68f2-fb52-4650-da8f-da7426924af2"
      },
      "execution_count": 104,
      "outputs": [
        {
          "output_type": "stream",
          "name": "stdout",
          "text": [
            "The p-value is 3.9440654151846526e-26\n"
          ]
        }
      ]
    },
    {
      "cell_type": "code",
      "source": [
        "# print the conclusion based on p-value\n",
        "if p_value < 0.05:\n",
        "    print(f'As the p-value {p_value} is less than the level of significance, we reject our null hypotheis')\n",
        "else:\n",
        "    print(f'As the p-value {p_value} is greater than the level of significance, we fail to reject our null hypothesis')\n"
      ],
      "metadata": {
        "colab": {
          "base_uri": "https://localhost:8080/",
          "height": 0
        },
        "id": "wyv-ayU-Gv2U",
        "outputId": "2b7a2882-0e27-4991-b61d-1ca281712795"
      },
      "execution_count": 105,
      "outputs": [
        {
          "output_type": "stream",
          "name": "stdout",
          "text": [
            "As the p-value 3.9440654151846526e-26 is less than the level of significance, we reject our null hypotheis\n"
          ]
        }
      ]
    },
    {
      "cell_type": "markdown",
      "source": [
        "Since the p-value is greater than the 5% significance level, we fail to reject the null hypothesis.\n",
        "Hence, we have enough statistical evidence to say that the mean count of rented bicycles are not\n",
        "equal."
      ],
      "metadata": {
        "id": "c6Xf588zHJod"
      }
    },
    {
      "cell_type": "code",
      "source": [
        "df.weather.value_counts()"
      ],
      "metadata": {
        "colab": {
          "base_uri": "https://localhost:8080/",
          "height": 0
        },
        "id": "BxKFfgwKLcn3",
        "outputId": "08e04483-e809-455f-e8b4-04daab063aed"
      },
      "execution_count": 106,
      "outputs": [
        {
          "output_type": "execute_result",
          "data": {
            "text/plain": [
              "1    6962\n",
              "2    2770\n",
              "3     850\n",
              "Name: weather, dtype: int64"
            ]
          },
          "metadata": {},
          "execution_count": 106
        }
      ]
    },
    {
      "cell_type": "code",
      "source": [
        "df.season.value_counts()"
      ],
      "metadata": {
        "colab": {
          "base_uri": "https://localhost:8080/",
          "height": 0
        },
        "id": "c8a6okzRLmmR",
        "outputId": "95ba13cf-86b4-4abf-c131-3fe71e07afb6"
      },
      "execution_count": 107,
      "outputs": [
        {
          "output_type": "execute_result",
          "data": {
            "text/plain": [
              "1    2669\n",
              "4    2664\n",
              "2    2633\n",
              "3    2616\n",
              "Name: season, dtype: int64"
            ]
          },
          "metadata": {},
          "execution_count": 107
        }
      ]
    },
    {
      "cell_type": "code",
      "source": [
        "df.groupby(['weather'])['season'].describe()"
      ],
      "metadata": {
        "colab": {
          "base_uri": "https://localhost:8080/",
          "height": 175
        },
        "id": "8T0KRfGiLmcv",
        "outputId": "91d442c3-27fa-4701-b2c0-5cb28f73c608"
      },
      "execution_count": 108,
      "outputs": [
        {
          "output_type": "execute_result",
          "data": {
            "text/plain": [
              "          count      mean       std  min  25%  50%  75%  max\n",
              "weather                                                     \n",
              "1        6962.0  2.489802  1.107611  1.0  1.0  3.0  3.0  4.0\n",
              "2        2770.0  2.519495  1.154927  1.0  1.0  2.0  4.0  4.0\n",
              "3         850.0  2.501176  1.126038  1.0  2.0  2.0  4.0  4.0"
            ],
            "text/html": [
              "\n",
              "  <div id=\"df-91fdc144-16e8-469f-82fd-557f061702c2\">\n",
              "    <div class=\"colab-df-container\">\n",
              "      <div>\n",
              "<style scoped>\n",
              "    .dataframe tbody tr th:only-of-type {\n",
              "        vertical-align: middle;\n",
              "    }\n",
              "\n",
              "    .dataframe tbody tr th {\n",
              "        vertical-align: top;\n",
              "    }\n",
              "\n",
              "    .dataframe thead th {\n",
              "        text-align: right;\n",
              "    }\n",
              "</style>\n",
              "<table border=\"1\" class=\"dataframe\">\n",
              "  <thead>\n",
              "    <tr style=\"text-align: right;\">\n",
              "      <th></th>\n",
              "      <th>count</th>\n",
              "      <th>mean</th>\n",
              "      <th>std</th>\n",
              "      <th>min</th>\n",
              "      <th>25%</th>\n",
              "      <th>50%</th>\n",
              "      <th>75%</th>\n",
              "      <th>max</th>\n",
              "    </tr>\n",
              "    <tr>\n",
              "      <th>weather</th>\n",
              "      <th></th>\n",
              "      <th></th>\n",
              "      <th></th>\n",
              "      <th></th>\n",
              "      <th></th>\n",
              "      <th></th>\n",
              "      <th></th>\n",
              "      <th></th>\n",
              "    </tr>\n",
              "  </thead>\n",
              "  <tbody>\n",
              "    <tr>\n",
              "      <th>1</th>\n",
              "      <td>6962.0</td>\n",
              "      <td>2.489802</td>\n",
              "      <td>1.107611</td>\n",
              "      <td>1.0</td>\n",
              "      <td>1.0</td>\n",
              "      <td>3.0</td>\n",
              "      <td>3.0</td>\n",
              "      <td>4.0</td>\n",
              "    </tr>\n",
              "    <tr>\n",
              "      <th>2</th>\n",
              "      <td>2770.0</td>\n",
              "      <td>2.519495</td>\n",
              "      <td>1.154927</td>\n",
              "      <td>1.0</td>\n",
              "      <td>1.0</td>\n",
              "      <td>2.0</td>\n",
              "      <td>4.0</td>\n",
              "      <td>4.0</td>\n",
              "    </tr>\n",
              "    <tr>\n",
              "      <th>3</th>\n",
              "      <td>850.0</td>\n",
              "      <td>2.501176</td>\n",
              "      <td>1.126038</td>\n",
              "      <td>1.0</td>\n",
              "      <td>2.0</td>\n",
              "      <td>2.0</td>\n",
              "      <td>4.0</td>\n",
              "      <td>4.0</td>\n",
              "    </tr>\n",
              "  </tbody>\n",
              "</table>\n",
              "</div>\n",
              "      <button class=\"colab-df-convert\" onclick=\"convertToInteractive('df-91fdc144-16e8-469f-82fd-557f061702c2')\"\n",
              "              title=\"Convert this dataframe to an interactive table.\"\n",
              "              style=\"display:none;\">\n",
              "        \n",
              "  <svg xmlns=\"http://www.w3.org/2000/svg\" height=\"24px\"viewBox=\"0 0 24 24\"\n",
              "       width=\"24px\">\n",
              "    <path d=\"M0 0h24v24H0V0z\" fill=\"none\"/>\n",
              "    <path d=\"M18.56 5.44l.94 2.06.94-2.06 2.06-.94-2.06-.94-.94-2.06-.94 2.06-2.06.94zm-11 1L8.5 8.5l.94-2.06 2.06-.94-2.06-.94L8.5 2.5l-.94 2.06-2.06.94zm10 10l.94 2.06.94-2.06 2.06-.94-2.06-.94-.94-2.06-.94 2.06-2.06.94z\"/><path d=\"M17.41 7.96l-1.37-1.37c-.4-.4-.92-.59-1.43-.59-.52 0-1.04.2-1.43.59L10.3 9.45l-7.72 7.72c-.78.78-.78 2.05 0 2.83L4 21.41c.39.39.9.59 1.41.59.51 0 1.02-.2 1.41-.59l7.78-7.78 2.81-2.81c.8-.78.8-2.07 0-2.86zM5.41 20L4 18.59l7.72-7.72 1.47 1.35L5.41 20z\"/>\n",
              "  </svg>\n",
              "      </button>\n",
              "      \n",
              "  <style>\n",
              "    .colab-df-container {\n",
              "      display:flex;\n",
              "      flex-wrap:wrap;\n",
              "      gap: 12px;\n",
              "    }\n",
              "\n",
              "    .colab-df-convert {\n",
              "      background-color: #E8F0FE;\n",
              "      border: none;\n",
              "      border-radius: 50%;\n",
              "      cursor: pointer;\n",
              "      display: none;\n",
              "      fill: #1967D2;\n",
              "      height: 32px;\n",
              "      padding: 0 0 0 0;\n",
              "      width: 32px;\n",
              "    }\n",
              "\n",
              "    .colab-df-convert:hover {\n",
              "      background-color: #E2EBFA;\n",
              "      box-shadow: 0px 1px 2px rgba(60, 64, 67, 0.3), 0px 1px 3px 1px rgba(60, 64, 67, 0.15);\n",
              "      fill: #174EA6;\n",
              "    }\n",
              "\n",
              "    [theme=dark] .colab-df-convert {\n",
              "      background-color: #3B4455;\n",
              "      fill: #D2E3FC;\n",
              "    }\n",
              "\n",
              "    [theme=dark] .colab-df-convert:hover {\n",
              "      background-color: #434B5C;\n",
              "      box-shadow: 0px 1px 3px 1px rgba(0, 0, 0, 0.15);\n",
              "      filter: drop-shadow(0px 1px 2px rgba(0, 0, 0, 0.3));\n",
              "      fill: #FFFFFF;\n",
              "    }\n",
              "  </style>\n",
              "\n",
              "      <script>\n",
              "        const buttonEl =\n",
              "          document.querySelector('#df-91fdc144-16e8-469f-82fd-557f061702c2 button.colab-df-convert');\n",
              "        buttonEl.style.display =\n",
              "          google.colab.kernel.accessAllowed ? 'block' : 'none';\n",
              "\n",
              "        async function convertToInteractive(key) {\n",
              "          const element = document.querySelector('#df-91fdc144-16e8-469f-82fd-557f061702c2');\n",
              "          const dataTable =\n",
              "            await google.colab.kernel.invokeFunction('convertToInteractive',\n",
              "                                                     [key], {});\n",
              "          if (!dataTable) return;\n",
              "\n",
              "          const docLinkHtml = 'Like what you see? Visit the ' +\n",
              "            '<a target=\"_blank\" href=https://colab.research.google.com/notebooks/data_table.ipynb>data table notebook</a>'\n",
              "            + ' to learn more about interactive tables.';\n",
              "          element.innerHTML = '';\n",
              "          dataTable['output_type'] = 'display_data';\n",
              "          await google.colab.output.renderOutput(dataTable, element);\n",
              "          const docLink = document.createElement('div');\n",
              "          docLink.innerHTML = docLinkHtml;\n",
              "          element.appendChild(docLink);\n",
              "        }\n",
              "      </script>\n",
              "    </div>\n",
              "  </div>\n",
              "  "
            ]
          },
          "metadata": {},
          "execution_count": 108
        }
      ]
    },
    {
      "cell_type": "code",
      "source": [
        "df.groupby(['season'])['weather'].describe()"
      ],
      "metadata": {
        "colab": {
          "base_uri": "https://localhost:8080/",
          "height": 206
        },
        "id": "aM8VK1noL_IB",
        "outputId": "c2d1fae0-b8aa-4df3-b394-ba7087dbb4ce"
      },
      "execution_count": 109,
      "outputs": [
        {
          "output_type": "execute_result",
          "data": {
            "text/plain": [
              "         count      mean       std  min  25%  50%  75%  max\n",
              "season                                                     \n",
              "1       2669.0  1.425628  0.634611  1.0  1.0  1.0  2.0  3.0\n",
              "2       2633.0  1.431447  0.644086  1.0  1.0  1.0  2.0  3.0\n",
              "3       2616.0  1.370413  0.618414  1.0  1.0  1.0  2.0  3.0\n",
              "4       2664.0  1.461336  0.643876  1.0  1.0  1.0  2.0  3.0"
            ],
            "text/html": [
              "\n",
              "  <div id=\"df-40b73644-0dee-45cb-9ab8-0558dd8bced4\">\n",
              "    <div class=\"colab-df-container\">\n",
              "      <div>\n",
              "<style scoped>\n",
              "    .dataframe tbody tr th:only-of-type {\n",
              "        vertical-align: middle;\n",
              "    }\n",
              "\n",
              "    .dataframe tbody tr th {\n",
              "        vertical-align: top;\n",
              "    }\n",
              "\n",
              "    .dataframe thead th {\n",
              "        text-align: right;\n",
              "    }\n",
              "</style>\n",
              "<table border=\"1\" class=\"dataframe\">\n",
              "  <thead>\n",
              "    <tr style=\"text-align: right;\">\n",
              "      <th></th>\n",
              "      <th>count</th>\n",
              "      <th>mean</th>\n",
              "      <th>std</th>\n",
              "      <th>min</th>\n",
              "      <th>25%</th>\n",
              "      <th>50%</th>\n",
              "      <th>75%</th>\n",
              "      <th>max</th>\n",
              "    </tr>\n",
              "    <tr>\n",
              "      <th>season</th>\n",
              "      <th></th>\n",
              "      <th></th>\n",
              "      <th></th>\n",
              "      <th></th>\n",
              "      <th></th>\n",
              "      <th></th>\n",
              "      <th></th>\n",
              "      <th></th>\n",
              "    </tr>\n",
              "  </thead>\n",
              "  <tbody>\n",
              "    <tr>\n",
              "      <th>1</th>\n",
              "      <td>2669.0</td>\n",
              "      <td>1.425628</td>\n",
              "      <td>0.634611</td>\n",
              "      <td>1.0</td>\n",
              "      <td>1.0</td>\n",
              "      <td>1.0</td>\n",
              "      <td>2.0</td>\n",
              "      <td>3.0</td>\n",
              "    </tr>\n",
              "    <tr>\n",
              "      <th>2</th>\n",
              "      <td>2633.0</td>\n",
              "      <td>1.431447</td>\n",
              "      <td>0.644086</td>\n",
              "      <td>1.0</td>\n",
              "      <td>1.0</td>\n",
              "      <td>1.0</td>\n",
              "      <td>2.0</td>\n",
              "      <td>3.0</td>\n",
              "    </tr>\n",
              "    <tr>\n",
              "      <th>3</th>\n",
              "      <td>2616.0</td>\n",
              "      <td>1.370413</td>\n",
              "      <td>0.618414</td>\n",
              "      <td>1.0</td>\n",
              "      <td>1.0</td>\n",
              "      <td>1.0</td>\n",
              "      <td>2.0</td>\n",
              "      <td>3.0</td>\n",
              "    </tr>\n",
              "    <tr>\n",
              "      <th>4</th>\n",
              "      <td>2664.0</td>\n",
              "      <td>1.461336</td>\n",
              "      <td>0.643876</td>\n",
              "      <td>1.0</td>\n",
              "      <td>1.0</td>\n",
              "      <td>1.0</td>\n",
              "      <td>2.0</td>\n",
              "      <td>3.0</td>\n",
              "    </tr>\n",
              "  </tbody>\n",
              "</table>\n",
              "</div>\n",
              "      <button class=\"colab-df-convert\" onclick=\"convertToInteractive('df-40b73644-0dee-45cb-9ab8-0558dd8bced4')\"\n",
              "              title=\"Convert this dataframe to an interactive table.\"\n",
              "              style=\"display:none;\">\n",
              "        \n",
              "  <svg xmlns=\"http://www.w3.org/2000/svg\" height=\"24px\"viewBox=\"0 0 24 24\"\n",
              "       width=\"24px\">\n",
              "    <path d=\"M0 0h24v24H0V0z\" fill=\"none\"/>\n",
              "    <path d=\"M18.56 5.44l.94 2.06.94-2.06 2.06-.94-2.06-.94-.94-2.06-.94 2.06-2.06.94zm-11 1L8.5 8.5l.94-2.06 2.06-.94-2.06-.94L8.5 2.5l-.94 2.06-2.06.94zm10 10l.94 2.06.94-2.06 2.06-.94-2.06-.94-.94-2.06-.94 2.06-2.06.94z\"/><path d=\"M17.41 7.96l-1.37-1.37c-.4-.4-.92-.59-1.43-.59-.52 0-1.04.2-1.43.59L10.3 9.45l-7.72 7.72c-.78.78-.78 2.05 0 2.83L4 21.41c.39.39.9.59 1.41.59.51 0 1.02-.2 1.41-.59l7.78-7.78 2.81-2.81c.8-.78.8-2.07 0-2.86zM5.41 20L4 18.59l7.72-7.72 1.47 1.35L5.41 20z\"/>\n",
              "  </svg>\n",
              "      </button>\n",
              "      \n",
              "  <style>\n",
              "    .colab-df-container {\n",
              "      display:flex;\n",
              "      flex-wrap:wrap;\n",
              "      gap: 12px;\n",
              "    }\n",
              "\n",
              "    .colab-df-convert {\n",
              "      background-color: #E8F0FE;\n",
              "      border: none;\n",
              "      border-radius: 50%;\n",
              "      cursor: pointer;\n",
              "      display: none;\n",
              "      fill: #1967D2;\n",
              "      height: 32px;\n",
              "      padding: 0 0 0 0;\n",
              "      width: 32px;\n",
              "    }\n",
              "\n",
              "    .colab-df-convert:hover {\n",
              "      background-color: #E2EBFA;\n",
              "      box-shadow: 0px 1px 2px rgba(60, 64, 67, 0.3), 0px 1px 3px 1px rgba(60, 64, 67, 0.15);\n",
              "      fill: #174EA6;\n",
              "    }\n",
              "\n",
              "    [theme=dark] .colab-df-convert {\n",
              "      background-color: #3B4455;\n",
              "      fill: #D2E3FC;\n",
              "    }\n",
              "\n",
              "    [theme=dark] .colab-df-convert:hover {\n",
              "      background-color: #434B5C;\n",
              "      box-shadow: 0px 1px 3px 1px rgba(0, 0, 0, 0.15);\n",
              "      filter: drop-shadow(0px 1px 2px rgba(0, 0, 0, 0.3));\n",
              "      fill: #FFFFFF;\n",
              "    }\n",
              "  </style>\n",
              "\n",
              "      <script>\n",
              "        const buttonEl =\n",
              "          document.querySelector('#df-40b73644-0dee-45cb-9ab8-0558dd8bced4 button.colab-df-convert');\n",
              "        buttonEl.style.display =\n",
              "          google.colab.kernel.accessAllowed ? 'block' : 'none';\n",
              "\n",
              "        async function convertToInteractive(key) {\n",
              "          const element = document.querySelector('#df-40b73644-0dee-45cb-9ab8-0558dd8bced4');\n",
              "          const dataTable =\n",
              "            await google.colab.kernel.invokeFunction('convertToInteractive',\n",
              "                                                     [key], {});\n",
              "          if (!dataTable) return;\n",
              "\n",
              "          const docLinkHtml = 'Like what you see? Visit the ' +\n",
              "            '<a target=\"_blank\" href=https://colab.research.google.com/notebooks/data_table.ipynb>data table notebook</a>'\n",
              "            + ' to learn more about interactive tables.';\n",
              "          element.innerHTML = '';\n",
              "          dataTable['output_type'] = 'display_data';\n",
              "          await google.colab.output.renderOutput(dataTable, element);\n",
              "          const docLink = document.createElement('div');\n",
              "          docLink.innerHTML = docLinkHtml;\n",
              "          element.appendChild(docLink);\n",
              "        }\n",
              "      </script>\n",
              "    </div>\n",
              "  </div>\n",
              "  "
            ]
          },
          "metadata": {},
          "execution_count": 109
        }
      ]
    },
    {
      "cell_type": "code",
      "source": [
        "sns.distplot(df['weather'].sample(2616))\n"
      ],
      "metadata": {
        "colab": {
          "base_uri": "https://localhost:8080/",
          "height": 303
        },
        "id": "ttyedeG_NeQc",
        "outputId": "d5d7d78b-cedb-4071-898f-b99b3e6a64b1"
      },
      "execution_count": 110,
      "outputs": [
        {
          "output_type": "execute_result",
          "data": {
            "text/plain": [
              "<matplotlib.axes._subplots.AxesSubplot at 0x7fa99f48ff50>"
            ]
          },
          "metadata": {},
          "execution_count": 110
        },
        {
          "output_type": "display_data",
          "data": {
            "text/plain": [
              "<Figure size 432x288 with 1 Axes>"
            ],
            "image/png": "[encoded data removed]"
          },
          "metadata": {}
        }
      ]
    },
    {
      "cell_type": "code",
      "source": [
        "# create contingency table\n",
        "data_crosstab = pd.crosstab(df['season'],\n",
        "                            df['weather'],\n",
        "                           margins=True, margins_name=\"Total\")"
      ],
      "metadata": {
        "id": "AKsbWC2LPC2r"
      },
      "execution_count": 113,
      "outputs": []
    },
    {
      "cell_type": "code",
      "source": [
        "data_crosstab"
      ],
      "metadata": {
        "colab": {
          "base_uri": "https://localhost:8080/",
          "height": 237
        },
        "id": "HwWm6jWoPH6K",
        "outputId": "b2021f0e-cd7a-4045-9fed-3b39c56777eb"
      },
      "execution_count": 114,
      "outputs": [
        {
          "output_type": "execute_result",
          "data": {
            "text/plain": [
              "weather     1     2    3  Total\n",
              "season                         \n",
              "1        1744   714  211   2669\n",
              "2        1720   690  223   2633\n",
              "3        1842   579  195   2616\n",
              "4        1656   787  221   2664\n",
              "Total    6962  2770  850  10582"
            ],
            "text/html": [
              "\n",
              "  <div id=\"df-e56d2e4d-6aa7-4e93-b9c7-ba1f2c5bdc89\">\n",
              "    <div class=\"colab-df-container\">\n",
              "      <div>\n",
              "<style scoped>\n",
              "    .dataframe tbody tr th:only-of-type {\n",
              "        vertical-align: middle;\n",
              "    }\n",
              "\n",
              "    .dataframe tbody tr th {\n",
              "        vertical-align: top;\n",
              "    }\n",
              "\n",
              "    .dataframe thead th {\n",
              "        text-align: right;\n",
              "    }\n",
              "</style>\n",
              "<table border=\"1\" class=\"dataframe\">\n",
              "  <thead>\n",
              "    <tr style=\"text-align: right;\">\n",
              "      <th>weather</th>\n",
              "      <th>1</th>\n",
              "      <th>2</th>\n",
              "      <th>3</th>\n",
              "      <th>Total</th>\n",
              "    </tr>\n",
              "    <tr>\n",
              "      <th>season</th>\n",
              "      <th></th>\n",
              "      <th></th>\n",
              "      <th></th>\n",
              "      <th></th>\n",
              "    </tr>\n",
              "  </thead>\n",
              "  <tbody>\n",
              "    <tr>\n",
              "      <th>1</th>\n",
              "      <td>1744</td>\n",
              "      <td>714</td>\n",
              "      <td>211</td>\n",
              "      <td>2669</td>\n",
              "    </tr>\n",
              "    <tr>\n",
              "      <th>2</th>\n",
              "      <td>1720</td>\n",
              "      <td>690</td>\n",
              "      <td>223</td>\n",
              "      <td>2633</td>\n",
              "    </tr>\n",
              "    <tr>\n",
              "      <th>3</th>\n",
              "      <td>1842</td>\n",
              "      <td>579</td>\n",
              "      <td>195</td>\n",
              "      <td>2616</td>\n",
              "    </tr>\n",
              "    <tr>\n",
              "      <th>4</th>\n",
              "      <td>1656</td>\n",
              "      <td>787</td>\n",
              "      <td>221</td>\n",
              "      <td>2664</td>\n",
              "    </tr>\n",
              "    <tr>\n",
              "      <th>Total</th>\n",
              "      <td>6962</td>\n",
              "      <td>2770</td>\n",
              "      <td>850</td>\n",
              "      <td>10582</td>\n",
              "    </tr>\n",
              "  </tbody>\n",
              "</table>\n",
              "</div>\n",
              "      <button class=\"colab-df-convert\" onclick=\"convertToInteractive('df-e56d2e4d-6aa7-4e93-b9c7-ba1f2c5bdc89')\"\n",
              "              title=\"Convert this dataframe to an interactive table.\"\n",
              "              style=\"display:none;\">\n",
              "        \n",
              "  <svg xmlns=\"http://www.w3.org/2000/svg\" height=\"24px\"viewBox=\"0 0 24 24\"\n",
              "       width=\"24px\">\n",
              "    <path d=\"M0 0h24v24H0V0z\" fill=\"none\"/>\n",
              "    <path d=\"M18.56 5.44l.94 2.06.94-2.06 2.06-.94-2.06-.94-.94-2.06-.94 2.06-2.06.94zm-11 1L8.5 8.5l.94-2.06 2.06-.94-2.06-.94L8.5 2.5l-.94 2.06-2.06.94zm10 10l.94 2.06.94-2.06 2.06-.94-2.06-.94-.94-2.06-.94 2.06-2.06.94z\"/><path d=\"M17.41 7.96l-1.37-1.37c-.4-.4-.92-.59-1.43-.59-.52 0-1.04.2-1.43.59L10.3 9.45l-7.72 7.72c-.78.78-.78 2.05 0 2.83L4 21.41c.39.39.9.59 1.41.59.51 0 1.02-.2 1.41-.59l7.78-7.78 2.81-2.81c.8-.78.8-2.07 0-2.86zM5.41 20L4 18.59l7.72-7.72 1.47 1.35L5.41 20z\"/>\n",
              "  </svg>\n",
              "      </button>\n",
              "      \n",
              "  <style>\n",
              "    .colab-df-container {\n",
              "      display:flex;\n",
              "      flex-wrap:wrap;\n",
              "      gap: 12px;\n",
              "    }\n",
              "\n",
              "    .colab-df-convert {\n",
              "      background-color: #E8F0FE;\n",
              "      border: none;\n",
              "      border-radius: 50%;\n",
              "      cursor: pointer;\n",
              "      display: none;\n",
              "      fill: #1967D2;\n",
              "      height: 32px;\n",
              "      padding: 0 0 0 0;\n",
              "      width: 32px;\n",
              "    }\n",
              "\n",
              "    .colab-df-convert:hover {\n",
              "      background-color: #E2EBFA;\n",
              "      box-shadow: 0px 1px 2px rgba(60, 64, 67, 0.3), 0px 1px 3px 1px rgba(60, 64, 67, 0.15);\n",
              "      fill: #174EA6;\n",
              "    }\n",
              "\n",
              "    [theme=dark] .colab-df-convert {\n",
              "      background-color: #3B4455;\n",
              "      fill: #D2E3FC;\n",
              "    }\n",
              "\n",
              "    [theme=dark] .colab-df-convert:hover {\n",
              "      background-color: #434B5C;\n",
              "      box-shadow: 0px 1px 3px 1px rgba(0, 0, 0, 0.15);\n",
              "      filter: drop-shadow(0px 1px 2px rgba(0, 0, 0, 0.3));\n",
              "      fill: #FFFFFF;\n",
              "    }\n",
              "  </style>\n",
              "\n",
              "      <script>\n",
              "        const buttonEl =\n",
              "          document.querySelector('#df-e56d2e4d-6aa7-4e93-b9c7-ba1f2c5bdc89 button.colab-df-convert');\n",
              "        buttonEl.style.display =\n",
              "          google.colab.kernel.accessAllowed ? 'block' : 'none';\n",
              "\n",
              "        async function convertToInteractive(key) {\n",
              "          const element = document.querySelector('#df-e56d2e4d-6aa7-4e93-b9c7-ba1f2c5bdc89');\n",
              "          const dataTable =\n",
              "            await google.colab.kernel.invokeFunction('convertToInteractive',\n",
              "                                                     [key], {});\n",
              "          if (!dataTable) return;\n",
              "\n",
              "          const docLinkHtml = 'Like what you see? Visit the ' +\n",
              "            '<a target=\"_blank\" href=https://colab.research.google.com/notebooks/data_table.ipynb>data table notebook</a>'\n",
              "            + ' to learn more about interactive tables.';\n",
              "          element.innerHTML = '';\n",
              "          dataTable['output_type'] = 'display_data';\n",
              "          await google.colab.output.renderOutput(dataTable, element);\n",
              "          const docLink = document.createElement('div');\n",
              "          docLink.innerHTML = docLinkHtml;\n",
              "          element.appendChild(docLink);\n",
              "        }\n",
              "      </script>\n",
              "    </div>\n",
              "  </div>\n",
              "  "
            ]
          },
          "metadata": {},
          "execution_count": 114
        }
      ]
    },
    {
      "cell_type": "markdown",
      "source": [
        " CHI SQUARED TEST"
      ],
      "metadata": {
        "id": "m08xYDVKHeyF"
      }
    },
    {
      "cell_type": "markdown",
      "source": [
        "H0: Weather is dependent on the season.\n",
        "\n",
        "Ha: Weather is independent on the season."
      ],
      "metadata": {
        "id": "WzlRBhfwQBrJ"
      }
    },
    {
      "cell_type": "code",
      "source": [
        "chi, pval,dof,exp = chi2_contingency(data_crosstab)"
      ],
      "metadata": {
        "id": "xoyzUXVPIbX9"
      },
      "execution_count": 115,
      "outputs": []
    },
    {
      "cell_type": "code",
      "source": [
        "significance = 0.05\n",
        "print('p-value= %.6f, significance = %.2f \\n' % (pval, significance))\n",
        "\n",
        "if pval < significance : \n",
        "  print(\"\"\"At %.2f level of significance, we reject the null hypothesis and accept Ha. These are not independent.\"\"\" %(significance))\n",
        "else:\n",
        "  print(\"\"\"At %.2f level of significance, we accept the null hypothesis  These are independent.\"\"\" %(significance)) \n",
        "  "
      ],
      "metadata": {
        "colab": {
          "base_uri": "https://localhost:8080/",
          "height": 0
        },
        "id": "hgZrL7dSJAdV",
        "outputId": "c40723ef-4ea2-4c47-c579-f66533ab0816"
      },
      "execution_count": 116,
      "outputs": [
        {
          "output_type": "stream",
          "name": "stdout",
          "text": [
            "p-value= 0.000014, significance = 0.05 \n",
            "\n",
            "At 0.05 level of significance, we reject the null hypothesis and accept Ha. These are not independent.\n"
          ]
        }
      ]
    },
    {
      "cell_type": "markdown",
      "source": [
        "Since the p-value is less than the 5% significance level, we fail to reject the null hypothesis.\n",
        "Hence, we have enough statistical evidence to say that the Weather and Season are dependant"
      ],
      "metadata": {
        "id": "TWXy8VWXQSq5"
      }
    },
    {
      "cell_type": "markdown",
      "source": [
        "End"
      ],
      "metadata": {
        "id": "RrePX371UDhn"
      }
    },
    {
      "cell_type": "code",
      "source": [
        ""
      ],
      "metadata": {
        "id": "7-IdS53cUFXU"
      },
      "execution_count": null,
      "outputs": []
    }
  ]
}